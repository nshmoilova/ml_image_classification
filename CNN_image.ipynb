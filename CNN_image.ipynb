{
 "cells": [
  {
   "cell_type": "code",
   "execution_count": 1,
   "metadata": {},
   "outputs": [
    {
     "name": "stderr",
     "output_type": "stream",
     "text": [
      "Using TensorFlow backend.\n"
     ]
    }
   ],
   "source": [
    "from keras.preprocessing.image import ImageDataGenerator, array_to_img, img_to_array, load_img\n",
    "from keras.layers import Conv2D, MaxPooling2D, Activation, Dropout, Flatten, Dense\n",
    "from keras.models import Sequential\n",
    "from sklearn.metrics import classification_report, multilabel_confusion_matrix, confusion_matrix\n",
    "import matplotlib.pyplot as plt\n",
    "import numpy as np\n",
    "from keras.utils import to_categorical"
   ]
  },
  {
   "cell_type": "code",
   "execution_count": 2,
   "metadata": {},
   "outputs": [],
   "source": [
    "# creates a model that categorizes images as 'swimming', 'skiing' or 'biking'\n",
    "# images for training and validation were generated from a single image in each category\n",
    "# overall accuracy 0.9957 with loss of .03\n",
    "# model correctly predicts tests images in each category"
   ]
  },
  {
   "cell_type": "code",
   "execution_count": 3,
   "metadata": {},
   "outputs": [
    {
     "name": "stdout",
     "output_type": "stream",
     "text": [
      "Found 233 images belonging to 3 classes.\n",
      "{'bike': 0, 'ski': 1, 'swim': 2}\n",
      "233\n",
      "Found 73 images belonging to 3 classes.\n",
      "{'bike': 0, 'ski': 1, 'swim': 2}\n",
      "73\n"
     ]
    }
   ],
   "source": [
    "# GET THE DATA\n",
    "batch_size = 30\n",
    "\n",
    "train_datagen = ImageDataGenerator(rescale=1./255, shear_range=0.2, zoom_range=0.2, horizontal_flip=True)\n",
    "validation_datagen = ImageDataGenerator(rescale=1./255)\n",
    "\n",
    "# read training images, resize all images to 300x300\n",
    "train_generator = train_datagen.flow_from_directory('data/images/train', target_size=(300, 300), batch_size=batch_size, \n",
    "    class_mode='categorical', shuffle=True)\n",
    "\n",
    "print(train_generator.class_indices)\n",
    "print(train_generator.samples)\n",
    "\n",
    "# read validation images, resize all images to 300x300\n",
    "validation_generator = validation_datagen.flow_from_directory('data/images/validate', target_size=(300, 300), batch_size=batch_size,\n",
    "    class_mode='categorical', shuffle=True)\n",
    "\n",
    "print(validation_generator.class_indices)\n",
    "print(validation_generator.samples)"
   ]
  },
  {
   "cell_type": "code",
   "execution_count": 4,
   "metadata": {},
   "outputs": [],
   "source": [
    "# BUILD CNN MODEL\n",
    "def CNN(): \n",
    "\n",
    "    model = Sequential()\n",
    "    model.add(Conv2D(32, kernel_size=(3, 3), input_shape=(300, 300, 3))) \n",
    "    model.add(Activation('relu'))\n",
    "    model.add(MaxPooling2D(pool_size=(2, 2)))\n",
    "\n",
    "    model.add(Conv2D(32, (3, 3)))\n",
    "    model.add(Activation('relu'))\n",
    "    model.add(MaxPooling2D(pool_size=(2, 2)))\n",
    "    model.add(Conv2D(64, (3, 3)))\n",
    "    \n",
    "    model.add(Activation('relu'))\n",
    "    model.add(MaxPooling2D(pool_size=(2, 2)))\n",
    "    model.add(Flatten())  \n",
    "    model.add(Dense(64))\n",
    "    \n",
    "    model.add(Activation('relu'))\n",
    "    model.add(Dropout(0.5))\n",
    "    \n",
    "    model.add(Dense(3))\n",
    "    \n",
    "    model.add(Activation('softmax'))\n",
    "    \n",
    "    model.compile(loss='categorical_crossentropy',\n",
    "                  optimizer='adam',\n",
    "                  #Calculates the mean accuracy rate across all predictions for multiclass classification problems.\n",
    "                  metrics=['categorical_accuracy'])\n",
    "\n",
    "    return model"
   ]
  },
  {
   "cell_type": "code",
   "execution_count": 5,
   "metadata": {},
   "outputs": [],
   "source": [
    "model = CNN()"
   ]
  },
  {
   "cell_type": "code",
   "execution_count": 6,
   "metadata": {},
   "outputs": [
    {
     "name": "stdout",
     "output_type": "stream",
     "text": [
      "_________________________________________________________________\n",
      "Layer (type)                 Output Shape              Param #   \n",
      "=================================================================\n",
      "conv2d_1 (Conv2D)            (None, 298, 298, 32)      896       \n",
      "_________________________________________________________________\n",
      "activation_1 (Activation)    (None, 298, 298, 32)      0         \n",
      "_________________________________________________________________\n",
      "max_pooling2d_1 (MaxPooling2 (None, 149, 149, 32)      0         \n",
      "_________________________________________________________________\n",
      "conv2d_2 (Conv2D)            (None, 147, 147, 32)      9248      \n",
      "_________________________________________________________________\n",
      "activation_2 (Activation)    (None, 147, 147, 32)      0         \n",
      "_________________________________________________________________\n",
      "max_pooling2d_2 (MaxPooling2 (None, 73, 73, 32)        0         \n",
      "_________________________________________________________________\n",
      "conv2d_3 (Conv2D)            (None, 71, 71, 64)        18496     \n",
      "_________________________________________________________________\n",
      "activation_3 (Activation)    (None, 71, 71, 64)        0         \n",
      "_________________________________________________________________\n",
      "max_pooling2d_3 (MaxPooling2 (None, 35, 35, 64)        0         \n",
      "_________________________________________________________________\n",
      "flatten_1 (Flatten)          (None, 78400)             0         \n",
      "_________________________________________________________________\n",
      "dense_1 (Dense)              (None, 64)                5017664   \n",
      "_________________________________________________________________\n",
      "activation_4 (Activation)    (None, 64)                0         \n",
      "_________________________________________________________________\n",
      "dropout_1 (Dropout)          (None, 64)                0         \n",
      "_________________________________________________________________\n",
      "dense_2 (Dense)              (None, 3)                 195       \n",
      "_________________________________________________________________\n",
      "activation_5 (Activation)    (None, 3)                 0         \n",
      "=================================================================\n",
      "Total params: 5,046,499\n",
      "Trainable params: 5,046,499\n",
      "Non-trainable params: 0\n",
      "_________________________________________________________________\n"
     ]
    }
   ],
   "source": [
    "model.summary()"
   ]
  },
  {
   "cell_type": "code",
   "execution_count": 7,
   "metadata": {},
   "outputs": [
    {
     "name": "stdout",
     "output_type": "stream",
     "text": [
      "{0: 3.2580645161290325, 1: 1.0, 2: 1.0}\n"
     ]
    }
   ],
   "source": [
    "from collections import Counter\n",
    "\n",
    "counter = Counter(train_generator.classes)                          \n",
    "max_val = float(max(counter.values()))       \n",
    "class_weights = {class_id : max_val/num_images for class_id, num_images in counter.items()}  \n",
    "print(class_weights)"
   ]
  },
  {
   "cell_type": "code",
   "execution_count": 8,
   "metadata": {},
   "outputs": [
    {
     "name": "stdout",
     "output_type": "stream",
     "text": [
      "Epoch 1/10\n",
      "8/8 [==============================] - 119s 15s/step - loss: 1.9792 - categorical_accuracy: 0.4202 - val_loss: 0.6950 - val_categorical_accuracy: 0.6027\n",
      "Epoch 2/10\n",
      "8/8 [==============================] - 118s 15s/step - loss: 0.7767 - categorical_accuracy: 0.8260 - val_loss: 0.4680 - val_categorical_accuracy: 0.8219\n",
      "Epoch 3/10\n",
      "8/8 [==============================] - 115s 14s/step - loss: 0.5537 - categorical_accuracy: 0.8230 - val_loss: 0.3574 - val_categorical_accuracy: 0.7945\n",
      "Epoch 4/10\n",
      "8/8 [==============================] - 116s 14s/step - loss: 0.4016 - categorical_accuracy: 0.9122 - val_loss: 0.1726 - val_categorical_accuracy: 0.9178\n",
      "Epoch 5/10\n",
      "8/8 [==============================] - 120s 15s/step - loss: 0.1658 - categorical_accuracy: 0.9696 - val_loss: 0.0447 - val_categorical_accuracy: 0.9863\n",
      "Epoch 6/10\n",
      "8/8 [==============================] - 130s 16s/step - loss: 0.0749 - categorical_accuracy: 0.9833 - val_loss: 8.3906e-04 - val_categorical_accuracy: 1.0000\n",
      "Epoch 7/10\n",
      "8/8 [==============================] - 121s 15s/step - loss: 0.0772 - categorical_accuracy: 0.9958 - val_loss: 7.6285e-05 - val_categorical_accuracy: 1.0000\n",
      "Epoch 8/10\n",
      "8/8 [==============================] - 120s 15s/step - loss: 0.0536 - categorical_accuracy: 0.9916 - val_loss: 0.2663 - val_categorical_accuracy: 0.9041\n",
      "Epoch 9/10\n",
      "8/8 [==============================] - 120s 15s/step - loss: 0.0407 - categorical_accuracy: 0.9799 - val_loss: 0.0013 - val_categorical_accuracy: 1.0000\n",
      "Epoch 10/10\n",
      "8/8 [==============================] - 122s 15s/step - loss: 0.0325 - categorical_accuracy: 0.9958 - val_loss: 4.7727e-04 - val_categorical_accuracy: 1.0000\n"
     ]
    }
   ],
   "source": [
    "# RUN THE MODEL\n",
    "EPOCHS = 10\n",
    "\n",
    "train_steps_per_epoch = np.math.ceil(train_generator.samples / train_generator.batch_size)\n",
    "validation_steps_per_epoch = np.math.ceil(validation_generator.samples / validation_generator.batch_size)\n",
    "\n",
    "#trains the mocel\n",
    "history = model.fit_generator( \n",
    "    train_generator, \n",
    "    use_multiprocessing=True, \n",
    "    workers=36, \n",
    "    steps_per_epoch=train_steps_per_epoch, \n",
    "    epochs=EPOCHS, \n",
    "    validation_data=validation_generator, \n",
    "    validation_steps=validation_steps_per_epoch,\n",
    "    class_weight=class_weights)"
   ]
  },
  {
   "cell_type": "code",
   "execution_count": 9,
   "metadata": {},
   "outputs": [
    {
     "name": "stdout",
     "output_type": "stream",
     "text": [
      "0.9957081509250428\n"
     ]
    }
   ],
   "source": [
    "print(max(history.history['categorical_accuracy']))"
   ]
  },
  {
   "cell_type": "code",
   "execution_count": 10,
   "metadata": {},
   "outputs": [],
   "source": [
    "validation_steps_per_epoch = np.math.ceil(validation_generator.samples / validation_generator.batch_size)\n",
    "predictions = model.predict_generator(validation_generator, steps=validation_steps_per_epoch)"
   ]
  },
  {
   "cell_type": "code",
   "execution_count": 11,
   "metadata": {},
   "outputs": [],
   "source": [
    "predicted_classes = np.argmax(predictions, axis=1) \n",
    "true_classes = validation_generator.classes\n",
    "class_labels = list(validation_generator.class_indices.keys())  "
   ]
  },
  {
   "cell_type": "code",
   "execution_count": 13,
   "metadata": {},
   "outputs": [],
   "source": [
    "# SAVE MODEL\n",
    "#model.save_weights('models/cnn_image_10_epochs.h5') # save model"
   ]
  },
  {
   "cell_type": "code",
   "execution_count": 20,
   "metadata": {},
   "outputs": [
    {
     "name": "stdout",
     "output_type": "stream",
     "text": [
      "{'val_loss': [0.6950177191054985, 0.4680371578425577, 0.3573818745678418, 0.17260427221859972, 0.04471206144519048, 0.000839059069682525, 7.628519642198688e-05, 0.26625244299026385, 0.0012605707280733303, 0.0004772717543907164], 'val_categorical_accuracy': [0.602739737458425, 0.8219178188337039, 0.7945205356976758, 0.9178082118295643, 0.986301358431986, 1.0, 1.0, 0.9041095702615503, 1.0, 1.0], 'loss': [1.9918698916619428, 0.7684727738343595, 0.5517196537599032, 0.4068512530285913, 0.16633020811454421, 0.07521848121953753, 0.07909576549862268, 0.05498952680675097, 0.03820310673844309, 0.03322140033114022], 'categorical_accuracy': [0.41630901863134984, 0.8283261815365803, 0.8240343278569725, 0.9098712461700766, 0.969957068754368, 0.982832611374589, 0.9957081509250428, 0.9914163018500856, 0.9828326116304029, 0.9957081509250428]}\n",
      "0.9957081509250428\n"
     ]
    }
   ],
   "source": [
    "print(history.history)\n",
    "acc = history.history['categorical_accuracy']\n",
    "val_acc = history.history['val_categorical_accuracy']\n",
    "loss = history.history['loss']\n",
    "val_loss = history.history['val_loss']\n",
    "epochs = range(len(acc))\n",
    "print(max(history.history['categorical_accuracy']))"
   ]
  },
  {
   "cell_type": "code",
   "execution_count": 15,
   "metadata": {},
   "outputs": [
    {
     "data": {
      "text/plain": [
       "<Figure size 432x288 with 0 Axes>"
      ]
     },
     "execution_count": 15,
     "metadata": {},
     "output_type": "execute_result"
    },
    {
     "data": {
      "image/png": "[encoded data removed]",
      "text/plain": [
       "<Figure size 432x288 with 1 Axes>"
      ]
     },
     "metadata": {
      "needs_background": "light"
     },
     "output_type": "display_data"
    },
    {
     "data": {
      "text/plain": [
       "<Figure size 432x288 with 0 Axes>"
      ]
     },
     "metadata": {},
     "output_type": "display_data"
    }
   ],
   "source": [
    "plt.plot(epochs, acc, 'r', label='Training acc')\n",
    "plt.plot(epochs, val_acc, 'b', label='Validation acc')\n",
    "plt.title('Training and validation accuracy')\n",
    "plt.ylabel('accuracy') \n",
    "plt.xlabel('epoch')\n",
    "plt.legend()\n",
    "plt.figure()"
   ]
  },
  {
   "cell_type": "code",
   "execution_count": 16,
   "metadata": {},
   "outputs": [
    {
     "data": {
      "image/png": "[encoded data removed]",
      "text/plain": [
       "<Figure size 432x288 with 1 Axes>"
      ]
     },
     "metadata": {
      "needs_background": "light"
     },
     "output_type": "display_data"
    }
   ],
   "source": [
    "plt.plot(epochs, loss, 'r', label='Training loss')\n",
    "plt.plot(epochs, val_loss, 'b', label='Validation loss')\n",
    "plt.title('Training and validation loss')\n",
    "plt.ylabel('loss') \n",
    "plt.xlabel('epoch')\n",
    "plt.legend()\n",
    "plt.show()"
   ]
  },
  {
   "cell_type": "code",
   "execution_count": 17,
   "metadata": {},
   "outputs": [
    {
     "name": "stdout",
     "output_type": "stream",
     "text": [
      "1/1 [==============================] - 0s 179ms/step\n",
      "[2]\n"
     ]
    }
   ],
   "source": [
    "img = load_img('data/images/test/swimming1.jpeg', target_size=(300,300)) \n",
    "x = img_to_array(img)\n",
    "x = x.reshape((1,) + x.shape)\n",
    "\n",
    "prediction = model.predict(x ,batch_size=32, verbose=1)\n",
    "print(np.argmax(prediction, axis=1))"
   ]
  },
  {
   "cell_type": "code",
   "execution_count": 18,
   "metadata": {},
   "outputs": [
    {
     "name": "stdout",
     "output_type": "stream",
     "text": [
      "1/1 [==============================] - 0s 173ms/step\n",
      "[1]\n"
     ]
    }
   ],
   "source": [
    "img = load_img('data/images/test/skiing1.jpeg', target_size=(300,300))\n",
    "x = img_to_array(img)\n",
    "x = x.reshape((1,) + x.shape)\n",
    "\n",
    "prediction = model.predict(x ,batch_size=32, verbose=1)\n",
    "print(np.argmax(prediction, axis=1))"
   ]
  },
  {
   "cell_type": "code",
   "execution_count": 19,
   "metadata": {},
   "outputs": [
    {
     "name": "stdout",
     "output_type": "stream",
     "text": [
      "1/1 [==============================] - 0s 186ms/step\n",
      "[0]\n"
     ]
    }
   ],
   "source": [
    "img = load_img('data/images/test/biking1.jpeg', target_size=(300,300))\n",
    "x = img_to_array(img)  \n",
    "x = x.reshape((1,) + x.shape)\n",
    "\n",
    "prediction = model.predict(x ,batch_size=32, verbose=1)\n",
    "print(np.argmax(prediction, axis=1))"
   ]
  }
 ],
 "metadata": {
  "kernelspec": {
   "display_name": "Python 3",
   "language": "python",
   "name": "python3"
  },
  "language_info": {
   "codemirror_mode": {
    "name": "ipython",
    "version": 3
   },
   "file_extension": ".py",
   "mimetype": "text/x-python",
   "name": "python",
   "nbconvert_exporter": "python",
   "pygments_lexer": "ipython3",
   "version": "3.8.8"
  }
 },
 "nbformat": 4,
 "nbformat_minor": 4
}
